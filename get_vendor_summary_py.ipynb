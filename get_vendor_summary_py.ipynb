{
  "nbformat": 4,
  "nbformat_minor": 0,
  "metadata": {
    "colab": {
      "provenance": []
    },
    "kernelspec": {
      "name": "python3",
      "display_name": "Python 3"
    },
    "language_info": {
      "name": "python"
    }
  },
  "cells": [
    {
      "cell_type": "code",
      "source": [
        "from google.colab import drive\n",
        "drive.mount('/content/drive')\n"
      ],
      "metadata": {
        "colab": {
          "base_uri": "https://localhost:8080/"
        },
        "id": "Ein5Vmh4-Pqy",
        "outputId": "a8270513-5c64-4837-9ad7-e1db223fc8df"
      },
      "execution_count": 60,
      "outputs": [
        {
          "output_type": "stream",
          "name": "stdout",
          "text": [
            "Drive already mounted at /content/drive; to attempt to forcibly remount, call drive.mount(\"/content/drive\", force_remount=True).\n"
          ]
        }
      ]
    },
    {
      "cell_type": "code",
      "source": [],
      "metadata": {
        "colab": {
          "base_uri": "https://localhost:8080/"
        },
        "id": "JXeLuP59CsXh",
        "outputId": "b08d38a7-ad94-427c-b821-91b62acba124"
      },
      "execution_count": 35,
      "outputs": [
        {
          "output_type": "stream",
          "name": "stdout",
          "text": [
            "Drive already mounted at /content/drive; to attempt to forcibly remount, call drive.mount(\"/content/drive\", force_remount=True).\n"
          ]
        }
      ]
    },
    {
      "cell_type": "code",
      "execution_count": 62,
      "metadata": {
        "id": "igTjNuRa9uWT"
      },
      "outputs": [],
      "source": [
        "import sqlite3\n",
        "import pandas as pd\n",
        "import logging\n",
        "import sys\n",
        "from ingestion_db import ingest_db\n",
        "import importlib\n",
        "importlib.reload(logging)\n",
        "\n",
        "\n",
        "sys.path.append('/content/drive/MyDrive/Colab Notebooks')\n",
        "\n",
        "\n",
        "logging.basicConfig(\n",
        "    filename='/content/drive/MyDrive/big_project/logs/get_vendor_summary.log',\n",
        "    level=logging.DEBUG,\n",
        "    format=\"%(asctime)s - %(levelname)s - %(message)s\",\n",
        "    filemode='a'\n",
        ")\n",
        "\n",
        "\n",
        "\n",
        "def create_vendor_summary(conn):\n",
        "\n",
        "\n",
        "  vendor_sales_summary = pd.read_sql_query(\"\"\"\n",
        "    WITH FreightSummary AS (\n",
        "      SELECT VendorNumber, SUM(Freight) AS FreightCost\n",
        "      FROM vendor_invoice\n",
        "      GROUP BY VendorNumber\n",
        "    ),\n",
        "    PurchaseSummary AS (\n",
        "      SELECT\n",
        "        p.VendorNumber,\n",
        "        p.VendorName,\n",
        "        p.Brand,\n",
        "        p.Description,\n",
        "        p.PurchasePrice,\n",
        "        pp.Volume,\n",
        "        pp.Price AS ActualPrice,\n",
        "        SUM(p.Quantity) AS TotalPurchaseQuantity,\n",
        "        SUM(p.Dollars) AS TotalPurchaseDollars\n",
        "      FROM purchases p\n",
        "      JOIN purchase_prices pp ON p.Brand = pp.Brand\n",
        "      WHERE p.PurchasePrice > 0\n",
        "      GROUP BY p.VendorNumber, p.VendorName, p.Brand, p.PurchasePrice, pp.Volume, pp.Price\n",
        "    ),\n",
        "    SalesSummary AS (\n",
        "      SELECT\n",
        "        VendorNo,\n",
        "        Brand,\n",
        "        SUM(SalesDollars) AS TotalSalesDollars,\n",
        "        AVG(SalesPrice) AS AvgSalesPrice,\n",
        "        SUM(SalesQuantity) AS TotalSalesQuantity,\n",
        "        SUM(ExciseTax) AS TotalExciseTax\n",
        "      FROM sales\n",
        "      GROUP BY VendorNo, Brand\n",
        "    )\n",
        "\n",
        "    SELECT\n",
        "      ps.VendorNumber,\n",
        "      ps.VendorName,\n",
        "      ps.Brand,\n",
        "      ps.Description,\n",
        "      ps.PurchasePrice,\n",
        "      ps.ActualPrice,\n",
        "      ps.Volume,\n",
        "      ps.TotalPurchaseQuantity,\n",
        "      ps.TotalPurchaseDollars,\n",
        "      ss.TotalSalesQuantity,\n",
        "      ss.TotalSalesDollars,\n",
        "      ss.AvgSalesPrice,\n",
        "      ss.TotalExciseTax,\n",
        "      fs.FreightCost\n",
        "    FROM PurchaseSummary ps\n",
        "    LEFT JOIN SalesSummary ss\n",
        "      ON ps.VendorNumber = ss.VendorNo AND ps.Brand = ss.Brand\n",
        "    LEFT JOIN FreightSummary fs\n",
        "      ON ps.VendorNumber = fs.VendorNumber\n",
        "    ORDER BY ps.TotalPurchaseDollars DESC\n",
        "  \"\"\", conn)\n",
        "  return vendor_sales_summary\n",
        "\n",
        "def cleandata(df):\n",
        "  df['Volume'] = df['Volume'].astype('float64')\n",
        "  df.fillna(0, inplace= True)\n",
        "  df['VendorName'] = df['VendorName'].str.strip()\n",
        "  df['Description'] = df['Description'].str.strip()\n",
        "\n",
        "  df['grossprofit'] = df['TotalSalesDollars'] - df['TotalPurchaseDollars']\n",
        "  df['profitmargin'] =( df['grossprofit'] /  df['TotalSalesDollars']) * 100\n",
        "  df['stockturnover'] = df['TotalSalesQuantity'] / df['TotalPurchaseQuantity']\n",
        "  df['salestopurchaseratio'] = df['TotalSalesDollars'] / df['TotalPurchaseDollars']\n",
        "  return df\n",
        "\n",
        "\n",
        "\n",
        "\n",
        "\n",
        "\n",
        "\n",
        "\n",
        "\n",
        "\n",
        "\n",
        "\n",
        "\n",
        "\n",
        "\n",
        "\n",
        "\n",
        "\n",
        "if __name__ == \"__main__\":\n",
        "\n",
        "  conn = sqlite3.connect('/content/drive/MyDrive/big_project/inventory.db')\n",
        "\n",
        "  logging.info('Creating vendor summary table.....')\n",
        "  summary_df = create_vendor_summary(conn)\n",
        "  logging.info(summary_df.head())\n",
        "\n",
        "  logging.info('Cleaning data....')\n",
        "  clean_df = cleandata(summary_df)\n",
        "  logging.info(clean_df.head())\n",
        "\n",
        "  logging.info('ingesting data....')\n",
        "  ingest_db(clean_df , 'vendor_sales_summary',conn)\n",
        "  logging.info('--completed--')"
      ]
    },
    {
      "cell_type": "code",
      "source": [],
      "metadata": {
        "id": "UAm5oZlqAdGR"
      },
      "execution_count": 65,
      "outputs": []
    }
  ]
}