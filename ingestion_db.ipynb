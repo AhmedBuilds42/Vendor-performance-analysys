{
  "nbformat": 4,
  "nbformat_minor": 0,
  "metadata": {
    "colab": {
      "provenance": []
    },
    "kernelspec": {
      "name": "python3",
      "display_name": "Python 3"
    },
    "language_info": {
      "name": "python"
    }
  },
  "cells": [
    {
      "cell_type": "code",
      "source": [
        "from google.colab import drive\n",
        "drive.mount('/content/drive')\n"
      ],
      "metadata": {
        "colab": {
          "base_uri": "https://localhost:8080/"
        },
        "id": "4IG4kbO5n8xF",
        "outputId": "c2570976-bedc-4c73-b28b-f9194f876866"
      },
      "execution_count": 1,
      "outputs": [
        {
          "output_type": "stream",
          "name": "stdout",
          "text": [
            "Mounted at /content/drive\n"
          ]
        }
      ]
    },
    {
      "cell_type": "code",
      "source": [
        "import pandas as pd\n",
        "import os\n",
        "from sqlalchemy import create_engine\n",
        "import logging\n",
        "import time\n",
        "\n",
        "\n",
        "import importlib\n",
        "importlib.reload(logging)\n",
        "\n",
        "log_dir = '/content/drive/MyDrive/big_project/logs/'\n",
        "if not os.path.exists(log_dir):\n",
        "    os.makedirs(log_dir)\n",
        "\n",
        "\n",
        "logging.basicConfig(\n",
        "    filename='/content/drive/MyDrive/big_project/logs/ingestion_db.log',\n",
        "    level=logging.DEBUG,\n",
        "    format=\"%(asctime)s - %(levelname)s - %(message)s\",\n",
        "    filemode='a'\n",
        ")\n",
        "\n",
        "engine = create_engine('sqlite:///drive/MyDrive/big_project/inventory.db')\n",
        "\n",
        "def load_raw_data():\n",
        "    start = time.time()\n",
        "    for file in os.listdir('drive/MyDrive/big_project/data/'):\n",
        "        if '.csv' in file:\n",
        "            df = pd.read_csv(f'drive/MyDrive/big_project/data/{file}')\n",
        "            logging.info(f'Ingesting {file} in db')\n",
        "            ingest_db(df, file[:-4], engine)\n",
        "            print(df.shape)\n",
        "\n",
        "    end = time.time()\n",
        "    total_time = (end - start) / 60\n",
        "    logging.info('-------Ingestion Complete------')\n",
        "    print(total_time)\n",
        "    logging.info(f'Total Time taken: {total_time} minutes')\n",
        "\n",
        "# if _name_ == '_main_':\n",
        "load_raw_data()"
      ],
      "metadata": {
        "id": "CpufU-DbidOn"
      },
      "execution_count": null,
      "outputs": []
    },
    {
      "cell_type": "markdown",
      "source": [
        "* df.to_sql(...)\n",
        "This function writes the DataFrame df to a SQL database.\n",
        "* Parameters Explained:\n",
        "tablename:\n",
        "*A string representing the name of the SQL table where the DataFrame will be written.\n",
        "\n",
        "* con=engine:\n",
        "The database connection object (usually created using SQLAlchemy’s create_engine). This tells pandas where to send the data.\n",
        "\n",
        "* if_exists='replace':\n",
        "This controls what happens if the table already exists:\n",
        "\n",
        " * 'fail': Raise an error.\n",
        "\n",
        " * 'replace': Drop the table and create a new one with the same name.\n",
        "\n",
        " * 'append': Add data to the existing table.\n",
        "\n",
        "* index=False:\n",
        "Don't write the DataFrame index as a column in the SQL table."
      ],
      "metadata": {
        "id": "tkdPnrLW9AXq"
      }
    },
    {
      "cell_type": "code",
      "source": [
        "def ingest_db(df, table_name, engine):\n",
        "    df.to_sql(table_name, con=engine, if_exists='replace', index=False)\n"
      ],
      "metadata": {
        "id": "8sil5y6DDUax"
      },
      "execution_count": 2,
      "outputs": []
    }
  ]
}